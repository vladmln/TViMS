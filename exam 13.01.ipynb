{
 "cells": [
  {
   "cell_type": "markdown",
   "metadata": {},
   "source": [
    "## Экзамен 13.01.2025"
   ]
  },
  {
   "cell_type": "markdown",
   "metadata": {},
   "source": [
    "## 1 задача:\n",
    "1.\tНайти количество различных слов (набора букв), которое можно получить, переставляя буквы \n",
    "    1. Вашей фамилии\n",
    "    2. Вашего имени\n",
    "    3.  Имени и фамилии (без пробела)\n",
    "т.е.\n",
    "1. Малюженец - 9 букв, но \"е\" встречается 2 раза\n",
    "2. Владислав - 9 букв, но \"а\" и \"л\" встречается 2 раза\n",
    "3. ВладиславМалюженец - 18 букв"
   ]
  },
  {
   "cell_type": "markdown",
   "metadata": {},
   "source": [
    "Формула:\n",
    "    Общее количество различных перестановок букв слова с учётом повторяющихся символов вычисляется как:\n",
    "\n",
    "P! = n! / k_1! * k_2! * ... * k_m!\n",
    "где k_1!, ..., k_m! - факториалы количеств повторений каждой уникальной буквы в слове.\n",
    "\n",
    "Количество различных слов, которое можно составить из букв слова \"Малюженец\", равно 181440.\n",
    "\n",
    "Количество различных слов, которое можно составить из букв слова \"Владислав\", равно 90720.\n",
    "\n",
    "Количество различных слов, которое можно составить из букв слова \"ВладиславМалюженец\", равно 88921857024000."
   ]
  },
  {
   "cell_type": "code",
   "execution_count": 22,
   "metadata": {},
   "outputs": [
    {
     "data": {
      "text/plain": [
       "181440"
      ]
     },
     "execution_count": 22,
     "metadata": {},
     "output_type": "execute_result"
    }
   ],
   "source": [
    "from math import factorial\n",
    "from collections import Counter\n",
    "word = \"Малюженец\"\n",
    "\n",
    "# Подсчёт количества каждой буквы в слове\n",
    "letter_counts = Counter(word)\n",
    "\n",
    "# Вычисление числа различных перестановок с учётом повторяющихся букв\n",
    "total_permutations = factorial(len(word))  # Факториал длины слова\n",
    "for count in letter_counts.values():\n",
    "    total_permutations //= factorial(count)  # Делим на факториалы количества повторений каждой буквы\n",
    "\n",
    "total_permutations"
   ]
  },
  {
   "cell_type": "code",
   "execution_count": 18,
   "metadata": {},
   "outputs": [
    {
     "data": {
      "text/plain": [
       "90720"
      ]
     },
     "execution_count": 18,
     "metadata": {},
     "output_type": "execute_result"
    }
   ],
   "source": [
    "from math import factorial\n",
    "from collections import Counter\n",
    "word = \"Владислав\"\n",
    "\n",
    "# Подсчёт количества каждой буквы в слове\n",
    "letter_counts = Counter(word)\n",
    "total_permutations = factorial(len(word))  # Факториал длины слова\n",
    "for count in letter_counts.values():\n",
    "    total_permutations //= factorial(count)  # Делим на факториалы количества повторений каждой буквы\n",
    "\n",
    "total_permutations"
   ]
  },
  {
   "cell_type": "code",
   "execution_count": 20,
   "metadata": {},
   "outputs": [
    {
     "data": {
      "text/plain": [
       "88921857024000"
      ]
     },
     "execution_count": 20,
     "metadata": {},
     "output_type": "execute_result"
    }
   ],
   "source": [
    "from math import factorial\n",
    "from collections import Counter\n",
    "word = \"ВладиславМалюженец\"\n",
    "\n",
    "# Подсчёт количества каждой буквы в слове\n",
    "letter_counts = Counter(word)\n",
    "total_permutations = factorial(len(word))  # Факториал длины слова\n",
    "for count in letter_counts.values():\n",
    "    total_permutations //= factorial(count)  # Делим на факториалы количества повторений каждой буквы\n",
    "\n",
    "total_permutations"
   ]
  },
  {
   "cell_type": "markdown",
   "metadata": {},
   "source": [
    "## 2 Задача:\n",
    "Дан датасет – 100 значений:\n",
    "\n",
    "(Мой номер по списку 25)\n",
    "\n",
    "Случайные вещественные значения в интервале [ -25 ;  26]\n",
    "\n",
    "1. Найти различные значения из описательной статистики (три и более: среднее, … , …) \n",
    "\n",
    "2. Для N по списку – нечетного: Построить ящичковую диаграмму размаха («ящик с усами»).\n"
   ]
  },
  {
   "cell_type": "code",
   "execution_count": 23,
   "metadata": {},
   "outputs": [
    {
     "data": {
      "image/png": "[encoded data removed]",
      "text/plain": [
       "<Figure size 800x600 with 1 Axes>"
      ]
     },
     "metadata": {},
     "output_type": "display_data"
    },
    {
     "data": {
      "text/plain": [
       "{'Mean': np.float64(-1.020782087711324),\n",
       " 'Median': np.float64(-1.3287348108358774),\n",
       " 'Mode': np.float64(-24.71837202669628),\n",
       " 'Variance': np.float64(230.18836908189428)}"
      ]
     },
     "execution_count": 23,
     "metadata": {},
     "output_type": "execute_result"
    }
   ],
   "source": [
    "import numpy as np\n",
    "import pandas as pd\n",
    "import matplotlib.pyplot as plt\n",
    "from scipy import stats\n",
    "\n",
    "# Генерация случайных данных\n",
    "np.random.seed(42)  # Для воспроизводимости датасета\n",
    "data = np.random.uniform(-25, 26, 100)  # 100 случайных значений в интервале [-25, 26]\n",
    "\n",
    "# А) Вычисление описательной статистики\n",
    "mean_value = np.mean(data)  # Среднее значение\n",
    "median_value = np.median(data)  # Медиана\n",
    "mode_value = stats.mode(data, keepdims=True).mode[0]  # Мода\n",
    "variance = np.var(data, ddof=1)  # Дисперсия\n",
    "\n",
    "# Сохранение результатов\n",
    "descriptive_statistics = {\n",
    "    \"Mean\": mean_value,\n",
    "    \"Median\": median_value,\n",
    "    \"Mode\": mode_value,\n",
    "    \"Variance\": variance,\n",
    "}\n",
    "\n",
    "# Б) Построение ящичковой диаграммы\n",
    "plt.figure(figsize=(8, 6))\n",
    "plt.boxplot(data, vert=False, patch_artist=True, boxprops=dict(facecolor=\"lightblue\"))\n",
    "plt.title(\"Ящик с усами\")\n",
    "plt.xlabel(\"Значение\")\n",
    "plt.grid(True)\n",
    "plt.show()\n",
    "\n",
    "descriptive_statistics"
   ]
  },
  {
   "cell_type": "markdown",
   "metadata": {},
   "source": [
    "Видим, что логически значения подходят, но не идеально, тк генерация была рандомной и сместилась чуть чуть к отрицательным значениям"
   ]
  }
 ],
 "metadata": {
  "kernelspec": {
   "display_name": "Python 3",
   "language": "python",
   "name": "python3"
  },
  "language_info": {
   "codemirror_mode": {
    "name": "ipython",
    "version": 3
   },
   "file_extension": ".py",
   "mimetype": "text/x-python",
   "name": "python",
   "nbconvert_exporter": "python",
   "pygments_lexer": "ipython3",
   "version": "3.9.13"
  }
 },
 "nbformat": 4,
 "nbformat_minor": 2
}
